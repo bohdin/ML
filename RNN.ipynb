{
 "cells": [
  {
   "cell_type": "markdown",
   "metadata": {},
   "source": [
    "# Import Libraries"
   ]
  },
  {
   "cell_type": "code",
   "execution_count": 2,
   "metadata": {},
   "outputs": [],
   "source": [
    "import matplotlib.pyplot as plt\n",
    "from keras.datasets import imdb\n",
    "from keras.utils import pad_sequences\n",
    "from keras.models import Sequential\n",
    "from keras.layers import Embedding, SimpleRNN, Dense, GRU, LSTM, Bidirectional\n",
    "from keras import callbacks\n",
    "import matplotlib.pyplot as plt\n",
    "import numpy as np\n",
    "import time\n",
    "import joblib"
   ]
  },
  {
   "cell_type": "markdown",
   "metadata": {},
   "source": [
    "# Analysis of dataset"
   ]
  },
  {
   "cell_type": "code",
   "execution_count": 3,
   "metadata": {},
   "outputs": [],
   "source": [
    "max_features = 10000\n",
    "maxlen = 500"
   ]
  },
  {
   "cell_type": "code",
   "execution_count": 4,
   "metadata": {},
   "outputs": [],
   "source": [
    "(input_train, y_train), (input_test, y_test) = imdb.load_data(num_words=max_features)"
   ]
  },
  {
   "cell_type": "code",
   "execution_count": 5,
   "metadata": {},
   "outputs": [],
   "source": [
    "x_train = pad_sequences(input_train, maxlen=maxlen)\n",
    "x_test = pad_sequences(input_test, maxlen=maxlen)"
   ]
  },
  {
   "cell_type": "markdown",
   "metadata": {},
   "source": [
    "## Distribution"
   ]
  },
  {
   "cell_type": "code",
   "execution_count": 6,
   "metadata": {},
   "outputs": [
    {
     "name": "stdout",
     "output_type": "stream",
     "text": [
      "Distribution of classes in training data: {0: 12500, 1: 12500}\n"
     ]
    }
   ],
   "source": [
    "unique, counts = np.unique(y_train, return_counts=True)\n",
    "class_distribution = dict(zip(unique, counts))\n",
    "print(\"Distribution of classes in training data:\", class_distribution)"
   ]
  },
  {
   "cell_type": "markdown",
   "metadata": {},
   "source": [
    "## Length of reviews"
   ]
  },
  {
   "cell_type": "code",
   "execution_count": 7,
   "metadata": {},
   "outputs": [
    {
     "name": "stdout",
     "output_type": "stream",
     "text": [
      "Mean length: 238.71364\n",
      "Min lenght: 11\n",
      "Max lenght: 2494\n"
     ]
    }
   ],
   "source": [
    "review_lengths = [len(review) for review in input_train]\n",
    "print(f'Mean length: {np.mean(review_lengths)}')\n",
    "print(f'Min lenght: {np.min(review_lengths)}')\n",
    "print(f'Max lenght: {np.max(review_lengths)}')"
   ]
  },
  {
   "cell_type": "code",
   "execution_count": 8,
   "metadata": {},
   "outputs": [
    {
     "data": {
      "image/png": "[encoded data removed]",
      "text/plain": [
       "<Figure size 640x480 with 1 Axes>"
      ]
     },
     "metadata": {},
     "output_type": "display_data"
    }
   ],
   "source": [
    "plt.hist(review_lengths, bins=70)\n",
    "plt.xlabel('Review length')\n",
    "plt.ylabel('Number')\n",
    "plt.title('Distribution of Review Lengths in Training Data')\n",
    "plt.show()"
   ]
  },
  {
   "cell_type": "markdown",
   "metadata": {},
   "source": [
    "# Train model"
   ]
  },
  {
   "cell_type": "code",
   "execution_count": 9,
   "metadata": {},
   "outputs": [],
   "source": [
    "histories = {}\n",
    "models = {}\n",
    "results = {}"
   ]
  },
  {
   "cell_type": "code",
   "execution_count": 10,
   "metadata": {},
   "outputs": [],
   "source": [
    "def get_callbacks():\n",
    "\n",
    "    early_stopping_acc = callbacks.EarlyStopping(\n",
    "        monitor=\"val_accuracy\", patience=7, verbose=1, restore_best_weights=True\n",
    "    )\n",
    "\n",
    "    early_stopping_loss = callbacks.EarlyStopping(\n",
    "        monitor=\"val_loss\",\n",
    "        patience=7,\n",
    "        verbose=1,\n",
    "        start_from_epoch=4,\n",
    "    )\n",
    "\n",
    "    return [early_stopping_acc, early_stopping_loss]\n",
    "\n",
    "\n",
    "def train(model, model_name, optimizer=\"adam\", epochs=30, batch_size=64, validation_split=0.2):\n",
    "\n",
    "    model.compile(optimizer=optimizer, loss=\"binary_crossentropy\", metrics=[\"accuracy\"])\n",
    "\n",
    "    start_time = time.time()\n",
    "\n",
    "    history = model.fit(\n",
    "        x_train,\n",
    "        y_train,\n",
    "        epochs=epochs,\n",
    "        batch_size=batch_size,\n",
    "        validation_split=validation_split,\n",
    "        callbacks=get_callbacks(),\n",
    "    )\n",
    "\n",
    "    end_time = time.time()\n",
    "\n",
    "    training_time = end_time - start_time\n",
    "\n",
    "    eval = model.evaluate(x_test, y_test)\n",
    "\n",
    "    res = {\n",
    "        \"Training time\": training_time,\n",
    "        \"Test accurancy\": eval[1],\n",
    "        \"Test loss\": eval[0],\n",
    "    }\n",
    "\n",
    "    models[model_name], histories[model_name], results[model_name] = model, history.history, res"
   ]
  },
  {
   "cell_type": "markdown",
   "metadata": {},
   "source": [
    "## RNN"
   ]
  },
  {
   "cell_type": "code",
   "execution_count": 11,
   "metadata": {},
   "outputs": [
    {
     "name": "stdout",
     "output_type": "stream",
     "text": [
      "Epoch 1/30\n",
      "\u001b[1m313/313\u001b[0m \u001b[32m━━━━━━━━━━━━━━━━━━━━\u001b[0m\u001b[37m\u001b[0m \u001b[1m30s\u001b[0m 73ms/step - accuracy: 0.5689 - loss: 0.6742 - val_accuracy: 0.7828 - val_loss: 0.4801\n",
      "Epoch 2/30\n",
      "\u001b[1m313/313\u001b[0m \u001b[32m━━━━━━━━━━━━━━━━━━━━\u001b[0m\u001b[37m\u001b[0m \u001b[1m21s\u001b[0m 68ms/step - accuracy: 0.8338 - loss: 0.3858 - val_accuracy: 0.8424 - val_loss: 0.3845\n",
      "Epoch 3/30\n",
      "\u001b[1m313/313\u001b[0m \u001b[32m━━━━━━━━━━━━━━━━━━━━\u001b[0m\u001b[37m\u001b[0m \u001b[1m22s\u001b[0m 70ms/step - accuracy: 0.9098 - loss: 0.2410 - val_accuracy: 0.8358 - val_loss: 0.4213\n",
      "Epoch 4/30\n",
      "\u001b[1m313/313\u001b[0m \u001b[32m━━━━━━━━━━━━━━━━━━━━\u001b[0m\u001b[37m\u001b[0m \u001b[1m23s\u001b[0m 73ms/step - accuracy: 0.9653 - loss: 0.1128 - val_accuracy: 0.8240 - val_loss: 0.4793\n",
      "Epoch 5/30\n",
      "\u001b[1m313/313\u001b[0m \u001b[32m━━━━━━━━━━━━━━━━━━━━\u001b[0m\u001b[37m\u001b[0m \u001b[1m22s\u001b[0m 71ms/step - accuracy: 0.9840 - loss: 0.0564 - val_accuracy: 0.7988 - val_loss: 0.6399\n",
      "Epoch 6/30\n",
      "\u001b[1m313/313\u001b[0m \u001b[32m━━━━━━━━━━━━━━━━━━━━\u001b[0m\u001b[37m\u001b[0m \u001b[1m22s\u001b[0m 71ms/step - accuracy: 0.9932 - loss: 0.0296 - val_accuracy: 0.8016 - val_loss: 0.6264\n",
      "Epoch 7/30\n",
      "\u001b[1m313/313\u001b[0m \u001b[32m━━━━━━━━━━━━━━━━━━━━\u001b[0m\u001b[37m\u001b[0m \u001b[1m22s\u001b[0m 70ms/step - accuracy: 0.9731 - loss: 0.0730 - val_accuracy: 0.7930 - val_loss: 0.6485\n",
      "Epoch 8/30\n",
      "\u001b[1m313/313\u001b[0m \u001b[32m━━━━━━━━━━━━━━━━━━━━\u001b[0m\u001b[37m\u001b[0m \u001b[1m23s\u001b[0m 72ms/step - accuracy: 0.9908 - loss: 0.0314 - val_accuracy: 0.8068 - val_loss: 0.7183\n",
      "Epoch 9/30\n",
      "\u001b[1m313/313\u001b[0m \u001b[32m━━━━━━━━━━━━━━━━━━━━\u001b[0m\u001b[37m\u001b[0m \u001b[1m23s\u001b[0m 75ms/step - accuracy: 0.9983 - loss: 0.0112 - val_accuracy: 0.7900 - val_loss: 0.7672\n",
      "Epoch 9: early stopping\n",
      "Restoring model weights from the end of the best epoch: 2.\n",
      "\u001b[1m782/782\u001b[0m \u001b[32m━━━━━━━━━━━━━━━━━━━━\u001b[0m\u001b[37m\u001b[0m \u001b[1m11s\u001b[0m 14ms/step - accuracy: 0.8343 - loss: 0.3987\n"
     ]
    }
   ],
   "source": [
    "model_name = 'RNN'\n",
    "model = Sequential([\n",
    "    Embedding(max_features, 32),\n",
    "    SimpleRNN(32),\n",
    "    Dense(1, 'sigmoid')\n",
    "], name = model_name)\n",
    "\n",
    "train(model, model_name)"
   ]
  },
  {
   "cell_type": "markdown",
   "metadata": {},
   "source": [
    "## GRU"
   ]
  },
  {
   "cell_type": "code",
   "execution_count": 12,
   "metadata": {},
   "outputs": [
    {
     "name": "stdout",
     "output_type": "stream",
     "text": [
      "Epoch 1/30\n",
      "\u001b[1m313/313\u001b[0m \u001b[32m━━━━━━━━━━━━━━━━━━━━\u001b[0m\u001b[37m\u001b[0m \u001b[1m55s\u001b[0m 165ms/step - accuracy: 0.6593 - loss: 0.5850 - val_accuracy: 0.8462 - val_loss: 0.3603\n",
      "Epoch 2/30\n",
      "\u001b[1m313/313\u001b[0m \u001b[32m━━━━━━━━━━━━━━━━━━━━\u001b[0m\u001b[37m\u001b[0m \u001b[1m50s\u001b[0m 161ms/step - accuracy: 0.8968 - loss: 0.2670 - val_accuracy: 0.8670 - val_loss: 0.3360\n",
      "Epoch 3/30\n",
      "\u001b[1m313/313\u001b[0m \u001b[32m━━━━━━━━━━━━━━━━━━━━\u001b[0m\u001b[37m\u001b[0m \u001b[1m85s\u001b[0m 170ms/step - accuracy: 0.9243 - loss: 0.2014 - val_accuracy: 0.8564 - val_loss: 0.3399\n",
      "Epoch 4/30\n",
      "\u001b[1m313/313\u001b[0m \u001b[32m━━━━━━━━━━━━━━━━━━━━\u001b[0m\u001b[37m\u001b[0m \u001b[1m56s\u001b[0m 179ms/step - accuracy: 0.9390 - loss: 0.1641 - val_accuracy: 0.8702 - val_loss: 0.3480\n",
      "Epoch 5/30\n",
      "\u001b[1m313/313\u001b[0m \u001b[32m━━━━━━━━━━━━━━━━━━━━\u001b[0m\u001b[37m\u001b[0m \u001b[1m57s\u001b[0m 183ms/step - accuracy: 0.9625 - loss: 0.1099 - val_accuracy: 0.8774 - val_loss: 0.3764\n",
      "Epoch 6/30\n",
      "\u001b[1m313/313\u001b[0m \u001b[32m━━━━━━━━━━━━━━━━━━━━\u001b[0m\u001b[37m\u001b[0m \u001b[1m50s\u001b[0m 158ms/step - accuracy: 0.9716 - loss: 0.0870 - val_accuracy: 0.8536 - val_loss: 0.4168\n",
      "Epoch 7/30\n",
      "\u001b[1m313/313\u001b[0m \u001b[32m━━━━━━━━━━━━━━━━━━━━\u001b[0m\u001b[37m\u001b[0m \u001b[1m47s\u001b[0m 150ms/step - accuracy: 0.9812 - loss: 0.0613 - val_accuracy: 0.8516 - val_loss: 0.5037\n",
      "Epoch 8/30\n",
      "\u001b[1m313/313\u001b[0m \u001b[32m━━━━━━━━━━━━━━━━━━━━\u001b[0m\u001b[37m\u001b[0m \u001b[1m49s\u001b[0m 156ms/step - accuracy: 0.9794 - loss: 0.0627 - val_accuracy: 0.8468 - val_loss: 0.5100\n",
      "Epoch 9/30\n",
      "\u001b[1m313/313\u001b[0m \u001b[32m━━━━━━━━━━━━━━━━━━━━\u001b[0m\u001b[37m\u001b[0m \u001b[1m49s\u001b[0m 155ms/step - accuracy: 0.9870 - loss: 0.0412 - val_accuracy: 0.8692 - val_loss: 0.5743\n",
      "Epoch 10/30\n",
      "\u001b[1m313/313\u001b[0m \u001b[32m━━━━━━━━━━━━━━━━━━━━\u001b[0m\u001b[37m\u001b[0m \u001b[1m51s\u001b[0m 163ms/step - accuracy: 0.9930 - loss: 0.0265 - val_accuracy: 0.8646 - val_loss: 0.6310\n",
      "Epoch 11/30\n",
      "\u001b[1m313/313\u001b[0m \u001b[32m━━━━━━━━━━━━━━━━━━━━\u001b[0m\u001b[37m\u001b[0m \u001b[1m51s\u001b[0m 163ms/step - accuracy: 0.9949 - loss: 0.0197 - val_accuracy: 0.8572 - val_loss: 0.6502\n",
      "Epoch 12/30\n",
      "\u001b[1m313/313\u001b[0m \u001b[32m━━━━━━━━━━━━━━━━━━━━\u001b[0m\u001b[37m\u001b[0m \u001b[1m53s\u001b[0m 168ms/step - accuracy: 0.9912 - loss: 0.0280 - val_accuracy: 0.8528 - val_loss: 0.6366\n",
      "Epoch 12: early stopping\n",
      "Restoring model weights from the end of the best epoch: 5.\n",
      "Epoch 12: early stopping\n",
      "\u001b[1m782/782\u001b[0m \u001b[32m━━━━━━━━━━━━━━━━━━━━\u001b[0m\u001b[37m\u001b[0m \u001b[1m29s\u001b[0m 37ms/step - accuracy: 0.8643 - loss: 0.4059\n"
     ]
    }
   ],
   "source": [
    "model_name = 'GRU'\n",
    "model = Sequential([\n",
    "    Embedding(max_features, 32),\n",
    "    GRU(32),\n",
    "    Dense(1, 'sigmoid')\n",
    "], name = model_name)\n",
    "\n",
    "train(model, model_name)"
   ]
  },
  {
   "cell_type": "markdown",
   "metadata": {},
   "source": [
    "## LSTM"
   ]
  },
  {
   "cell_type": "code",
   "execution_count": 13,
   "metadata": {},
   "outputs": [
    {
     "name": "stdout",
     "output_type": "stream",
     "text": [
      "Epoch 1/30\n",
      "\u001b[1m313/313\u001b[0m \u001b[32m━━━━━━━━━━━━━━━━━━━━\u001b[0m\u001b[37m\u001b[0m \u001b[1m39s\u001b[0m 115ms/step - accuracy: 0.6895 - loss: 0.5665 - val_accuracy: 0.8156 - val_loss: 0.4144\n",
      "Epoch 2/30\n",
      "\u001b[1m313/313\u001b[0m \u001b[32m━━━━━━━━━━━━━━━━━━━━\u001b[0m\u001b[37m\u001b[0m \u001b[1m38s\u001b[0m 120ms/step - accuracy: 0.8703 - loss: 0.3209 - val_accuracy: 0.8672 - val_loss: 0.3247\n",
      "Epoch 3/30\n",
      "\u001b[1m313/313\u001b[0m \u001b[32m━━━━━━━━━━━━━━━━━━━━\u001b[0m\u001b[37m\u001b[0m \u001b[1m36s\u001b[0m 115ms/step - accuracy: 0.9167 - loss: 0.2198 - val_accuracy: 0.8686 - val_loss: 0.3136\n",
      "Epoch 4/30\n",
      "\u001b[1m313/313\u001b[0m \u001b[32m━━━━━━━━━━━━━━━━━━━━\u001b[0m\u001b[37m\u001b[0m \u001b[1m40s\u001b[0m 112ms/step - accuracy: 0.9446 - loss: 0.1612 - val_accuracy: 0.8726 - val_loss: 0.3291\n",
      "Epoch 5/30\n",
      "\u001b[1m313/313\u001b[0m \u001b[32m━━━━━━━━━━━━━━━━━━━━\u001b[0m\u001b[37m\u001b[0m \u001b[1m34s\u001b[0m 110ms/step - accuracy: 0.9484 - loss: 0.1391 - val_accuracy: 0.8600 - val_loss: 0.3946\n",
      "Epoch 6/30\n",
      "\u001b[1m313/313\u001b[0m \u001b[32m━━━━━━━━━━━━━━━━━━━━\u001b[0m\u001b[37m\u001b[0m \u001b[1m41s\u001b[0m 132ms/step - accuracy: 0.9623 - loss: 0.1100 - val_accuracy: 0.8662 - val_loss: 0.3667\n",
      "Epoch 7/30\n",
      "\u001b[1m313/313\u001b[0m \u001b[32m━━━━━━━━━━━━━━━━━━━━\u001b[0m\u001b[37m\u001b[0m \u001b[1m37s\u001b[0m 117ms/step - accuracy: 0.9644 - loss: 0.1077 - val_accuracy: 0.7988 - val_loss: 0.4524\n",
      "Epoch 8/30\n",
      "\u001b[1m313/313\u001b[0m \u001b[32m━━━━━━━━━━━━━━━━━━━━\u001b[0m\u001b[37m\u001b[0m \u001b[1m38s\u001b[0m 122ms/step - accuracy: 0.9610 - loss: 0.1115 - val_accuracy: 0.8694 - val_loss: 0.4539\n",
      "Epoch 9/30\n",
      "\u001b[1m313/313\u001b[0m \u001b[32m━━━━━━━━━━━━━━━━━━━━\u001b[0m\u001b[37m\u001b[0m \u001b[1m37s\u001b[0m 119ms/step - accuracy: 0.9778 - loss: 0.0702 - val_accuracy: 0.8486 - val_loss: 0.4125\n",
      "Epoch 10/30\n",
      "\u001b[1m313/313\u001b[0m \u001b[32m━━━━━━━━━━━━━━━━━━━━\u001b[0m\u001b[37m\u001b[0m \u001b[1m36s\u001b[0m 116ms/step - accuracy: 0.9762 - loss: 0.0827 - val_accuracy: 0.8706 - val_loss: 0.4653\n",
      "Epoch 11/30\n",
      "\u001b[1m313/313\u001b[0m \u001b[32m━━━━━━━━━━━━━━━━━━━━\u001b[0m\u001b[37m\u001b[0m \u001b[1m37s\u001b[0m 117ms/step - accuracy: 0.9879 - loss: 0.0465 - val_accuracy: 0.8636 - val_loss: 0.5154\n",
      "Epoch 11: early stopping\n",
      "Restoring model weights from the end of the best epoch: 4.\n",
      "\u001b[1m782/782\u001b[0m \u001b[32m━━━━━━━━━━━━━━━━━━━━\u001b[0m\u001b[37m\u001b[0m \u001b[1m24s\u001b[0m 30ms/step - accuracy: 0.8653 - loss: 0.3559\n"
     ]
    }
   ],
   "source": [
    "model_name = 'LSTM'\n",
    "model = Sequential([\n",
    "    Embedding(max_features, 32),\n",
    "    LSTM(32),\n",
    "    Dense(1, 'sigmoid')\n",
    "], name = model_name)\n",
    "\n",
    "train(model, model_name)"
   ]
  },
  {
   "cell_type": "markdown",
   "metadata": {},
   "source": [
    "## Bidirectional LSTM"
   ]
  },
  {
   "cell_type": "code",
   "execution_count": 14,
   "metadata": {},
   "outputs": [
    {
     "name": "stdout",
     "output_type": "stream",
     "text": [
      "Epoch 1/30\n",
      "\u001b[1m313/313\u001b[0m \u001b[32m━━━━━━━━━━━━━━━━━━━━\u001b[0m\u001b[37m\u001b[0m \u001b[1m51s\u001b[0m 150ms/step - accuracy: 0.6590 - loss: 0.6004 - val_accuracy: 0.8276 - val_loss: 0.4005\n",
      "Epoch 2/30\n",
      "\u001b[1m313/313\u001b[0m \u001b[32m━━━━━━━━━━━━━━━━━━━━\u001b[0m\u001b[37m\u001b[0m \u001b[1m46s\u001b[0m 148ms/step - accuracy: 0.8704 - loss: 0.3211 - val_accuracy: 0.8550 - val_loss: 0.3510\n",
      "Epoch 3/30\n",
      "\u001b[1m313/313\u001b[0m \u001b[32m━━━━━━━━━━━━━━━━━━━━\u001b[0m\u001b[37m\u001b[0m \u001b[1m48s\u001b[0m 152ms/step - accuracy: 0.9172 - loss: 0.2209 - val_accuracy: 0.8704 - val_loss: 0.3173\n",
      "Epoch 4/30\n",
      "\u001b[1m313/313\u001b[0m \u001b[32m━━━━━━━━━━━━━━━━━━━━\u001b[0m\u001b[37m\u001b[0m \u001b[1m52s\u001b[0m 167ms/step - accuracy: 0.9429 - loss: 0.1658 - val_accuracy: 0.8746 - val_loss: 0.3316\n",
      "Epoch 5/30\n",
      "\u001b[1m313/313\u001b[0m \u001b[32m━━━━━━━━━━━━━━━━━━━━\u001b[0m\u001b[37m\u001b[0m \u001b[1m50s\u001b[0m 161ms/step - accuracy: 0.9558 - loss: 0.1310 - val_accuracy: 0.8276 - val_loss: 0.3843\n",
      "Epoch 6/30\n",
      "\u001b[1m313/313\u001b[0m \u001b[32m━━━━━━━━━━━━━━━━━━━━\u001b[0m\u001b[37m\u001b[0m \u001b[1m50s\u001b[0m 158ms/step - accuracy: 0.9559 - loss: 0.1293 - val_accuracy: 0.8810 - val_loss: 0.3912\n",
      "Epoch 7/30\n",
      "\u001b[1m313/313\u001b[0m \u001b[32m━━━━━━━━━━━━━━━━━━━━\u001b[0m\u001b[37m\u001b[0m \u001b[1m51s\u001b[0m 162ms/step - accuracy: 0.9667 - loss: 0.1015 - val_accuracy: 0.8590 - val_loss: 0.3932\n",
      "Epoch 8/30\n",
      "\u001b[1m313/313\u001b[0m \u001b[32m━━━━━━━━━━━━━━━━━━━━\u001b[0m\u001b[37m\u001b[0m \u001b[1m49s\u001b[0m 157ms/step - accuracy: 0.9725 - loss: 0.0846 - val_accuracy: 0.8690 - val_loss: 0.4726\n",
      "Epoch 9/30\n",
      "\u001b[1m313/313\u001b[0m \u001b[32m━━━━━━━━━━━━━━━━━━━━\u001b[0m\u001b[37m\u001b[0m \u001b[1m82s\u001b[0m 158ms/step - accuracy: 0.9795 - loss: 0.0653 - val_accuracy: 0.8676 - val_loss: 0.5341\n",
      "Epoch 10/30\n",
      "\u001b[1m313/313\u001b[0m \u001b[32m━━━━━━━━━━━━━━━━━━━━\u001b[0m\u001b[37m\u001b[0m \u001b[1m49s\u001b[0m 158ms/step - accuracy: 0.9828 - loss: 0.0551 - val_accuracy: 0.8662 - val_loss: 0.4969\n",
      "Epoch 11/30\n",
      "\u001b[1m313/313\u001b[0m \u001b[32m━━━━━━━━━━━━━━━━━━━━\u001b[0m\u001b[37m\u001b[0m \u001b[1m49s\u001b[0m 157ms/step - accuracy: 0.9810 - loss: 0.0591 - val_accuracy: 0.8612 - val_loss: 0.4859\n",
      "Epoch 12/30\n",
      "\u001b[1m313/313\u001b[0m \u001b[32m━━━━━━━━━━━━━━━━━━━━\u001b[0m\u001b[37m\u001b[0m \u001b[1m49s\u001b[0m 158ms/step - accuracy: 0.9862 - loss: 0.0459 - val_accuracy: 0.8550 - val_loss: 0.4923\n",
      "Restoring model weights from the end of the best epoch: 6.\n",
      "Epoch 12: early stopping\n",
      "\u001b[1m782/782\u001b[0m \u001b[32m━━━━━━━━━━━━━━━━━━━━\u001b[0m\u001b[37m\u001b[0m \u001b[1m26s\u001b[0m 33ms/step - accuracy: 0.8652 - loss: 0.4224\n"
     ]
    }
   ],
   "source": [
    "model_name = 'Bidirectional_LSTM'\n",
    "model = Sequential([\n",
    "    Embedding(max_features, 32),\n",
    "    Bidirectional(LSTM(32)),\n",
    "    Dense(1, 'sigmoid')\n",
    "], name = model_name)\n",
    "\n",
    "train(model, model_name)"
   ]
  },
  {
   "cell_type": "markdown",
   "metadata": {},
   "source": [
    "## Deep LSTM"
   ]
  },
  {
   "cell_type": "code",
   "execution_count": 15,
   "metadata": {},
   "outputs": [
    {
     "name": "stdout",
     "output_type": "stream",
     "text": [
      "Epoch 1/30\n",
      "\u001b[1m313/313\u001b[0m \u001b[32m━━━━━━━━━━━━━━━━━━━━\u001b[0m\u001b[37m\u001b[0m \u001b[1m82s\u001b[0m 250ms/step - accuracy: 0.6986 - loss: 0.5482 - val_accuracy: 0.8574 - val_loss: 0.3342\n",
      "Epoch 2/30\n",
      "\u001b[1m313/313\u001b[0m \u001b[32m━━━━━━━━━━━━━━━━━━━━\u001b[0m\u001b[37m\u001b[0m \u001b[1m76s\u001b[0m 241ms/step - accuracy: 0.9055 - loss: 0.2449 - val_accuracy: 0.8808 - val_loss: 0.2922\n",
      "Epoch 3/30\n",
      "\u001b[1m313/313\u001b[0m \u001b[32m━━━━━━━━━━━━━━━━━━━━\u001b[0m\u001b[37m\u001b[0m \u001b[1m82s\u001b[0m 242ms/step - accuracy: 0.9394 - loss: 0.1747 - val_accuracy: 0.8624 - val_loss: 0.3190\n",
      "Epoch 4/30\n",
      "\u001b[1m313/313\u001b[0m \u001b[32m━━━━━━━━━━━━━━━━━━━━\u001b[0m\u001b[37m\u001b[0m \u001b[1m76s\u001b[0m 243ms/step - accuracy: 0.9562 - loss: 0.1293 - val_accuracy: 0.8750 - val_loss: 0.3740\n",
      "Epoch 5/30\n",
      "\u001b[1m313/313\u001b[0m \u001b[32m━━━━━━━━━━━━━━━━━━━━\u001b[0m\u001b[37m\u001b[0m \u001b[1m76s\u001b[0m 242ms/step - accuracy: 0.9687 - loss: 0.0920 - val_accuracy: 0.8298 - val_loss: 0.4675\n",
      "Epoch 6/30\n",
      "\u001b[1m313/313\u001b[0m \u001b[32m━━━━━━━━━━━━━━━━━━━━\u001b[0m\u001b[37m\u001b[0m \u001b[1m82s\u001b[0m 242ms/step - accuracy: 0.9715 - loss: 0.0837 - val_accuracy: 0.8588 - val_loss: 0.5017\n",
      "Epoch 7/30\n",
      "\u001b[1m313/313\u001b[0m \u001b[32m━━━━━━━━━━━━━━━━━━━━\u001b[0m\u001b[37m\u001b[0m \u001b[1m72s\u001b[0m 231ms/step - accuracy: 0.9834 - loss: 0.0537 - val_accuracy: 0.8638 - val_loss: 0.5170\n",
      "Epoch 8/30\n",
      "\u001b[1m313/313\u001b[0m \u001b[32m━━━━━━━━━━━━━━━━━━━━\u001b[0m\u001b[37m\u001b[0m \u001b[1m72s\u001b[0m 229ms/step - accuracy: 0.9870 - loss: 0.0402 - val_accuracy: 0.8530 - val_loss: 0.5553\n",
      "Epoch 9/30\n",
      "\u001b[1m313/313\u001b[0m \u001b[32m━━━━━━━━━━━━━━━━━━━━\u001b[0m\u001b[37m\u001b[0m \u001b[1m75s\u001b[0m 238ms/step - accuracy: 0.9919 - loss: 0.0297 - val_accuracy: 0.8532 - val_loss: 0.6312\n",
      "Epoch 9: early stopping\n",
      "Restoring model weights from the end of the best epoch: 2.\n",
      "\u001b[1m782/782\u001b[0m \u001b[32m━━━━━━━━━━━━━━━━━━━━\u001b[0m\u001b[37m\u001b[0m \u001b[1m55s\u001b[0m 70ms/step - accuracy: 0.8726 - loss: 0.3149\n"
     ]
    }
   ],
   "source": [
    "model_name = 'Deep_LSTM'\n",
    "model = Sequential([\n",
    "    Embedding(max_features, 32),\n",
    "    LSTM(32, return_sequences=True),\n",
    "    LSTM(32),\n",
    "    Dense(1, 'sigmoid')\n",
    "], name = model_name)\n",
    "\n",
    "train(model, model_name)"
   ]
  },
  {
   "cell_type": "markdown",
   "metadata": {},
   "source": [
    "# Compare results"
   ]
  },
  {
   "cell_type": "code",
   "execution_count": 16,
   "metadata": {},
   "outputs": [],
   "source": [
    "joblib.dump(histories, 'Results\\\\RNN\\\\histories.pkl')\n",
    "joblib.dump(results, 'Results\\\\RNN\\\\results.pkl')\n",
    "for model_name, model in models.items():\n",
    "    model.save(f'Models\\\\RNN\\\\{model_name}.keras')"
   ]
  },
  {
   "cell_type": "code",
   "execution_count": null,
   "metadata": {},
   "outputs": [],
   "source": []
  }
 ],
 "metadata": {
  "kernelspec": {
   "display_name": ".venv",
   "language": "python",
   "name": "python3"
  },
  "language_info": {
   "codemirror_mode": {
    "name": "ipython",
    "version": 3
   },
   "file_extension": ".py",
   "mimetype": "text/x-python",
   "name": "python",
   "nbconvert_exporter": "python",
   "pygments_lexer": "ipython3",
   "version": "3.12.1"
  }
 },
 "nbformat": 4,
 "nbformat_minor": 2
}
