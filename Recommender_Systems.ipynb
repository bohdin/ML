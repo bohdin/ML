{
 "cells": [
  {
   "cell_type": "markdown",
   "metadata": {},
   "source": [
    "# Import Libreries"
   ]
  },
  {
   "cell_type": "code",
   "execution_count": 43,
   "metadata": {},
   "outputs": [],
   "source": [
    "import numpy as np\n",
    "import matplotlib.pyplot as plt\n",
    "from surprise import SVD, SVDpp, NMF\n",
    "from surprise import Dataset\n",
    "from surprise.model_selection import cross_validate\n",
    "import itertools\n",
    "import pandas as pd"
   ]
  },
  {
   "cell_type": "code",
   "execution_count": 4,
   "metadata": {},
   "outputs": [],
   "source": [
    "data = Dataset.load_builtin('ml-100k')"
   ]
  },
  {
   "cell_type": "markdown",
   "metadata": {},
   "source": [
    "# Train model"
   ]
  },
  {
   "cell_type": "code",
   "execution_count": 12,
   "metadata": {},
   "outputs": [],
   "source": [
    "def evaluate_model(model, param_grid, data, measures=['RMSE', 'MAE'], cv=5, random_state = 42):\n",
    "    results = []\n",
    "\n",
    "    keys, values = zip(*param_grid.items())\n",
    "    param_combinations = [dict(zip(keys, v)) for v in itertools.product(*values)]\n",
    "    \n",
    "    for params in param_combinations:\n",
    "        algo = model(**params, random_state=random_state)\n",
    "        cv_results = cross_validate(algo, data, measures=measures, cv=cv)\n",
    "        mean_rmse = cv_results['test_rmse'].mean()\n",
    "        mean_mae = cv_results['test_mae'].mean()\n",
    "        mean_fit_time = np.array(cv_results['fit_time']).mean()\n",
    "        mean_test_time = np.array(cv_results['test_time']).mean()\n",
    "\n",
    "        results.append({\n",
    "            'model': model.__name__,\n",
    "            'parameters': params, \n",
    "            'mean_rmse': mean_rmse, \n",
    "            'mean_mae': mean_mae, \n",
    "            'mean_fit_time': mean_fit_time, \n",
    "            'mean_test_time': mean_test_time})\n",
    "        \n",
    "    return results"
   ]
  },
  {
   "cell_type": "code",
   "execution_count": 13,
   "metadata": {},
   "outputs": [
    {
     "name": "stdout",
     "output_type": "stream",
     "text": [
      "Start SVD test\n",
      "SVD Results:\n",
      "Params: {'n_factors': 20, 'lr_all': 0.001, 'reg_all': 0.01}, RMSE:  0.95926, MAE:  0.76156, time_fit:  0.71264, time_test:  0.12904\n",
      "Params: {'n_factors': 20, 'lr_all': 0.001, 'reg_all': 0.02}, RMSE:  0.95998, MAE:  0.76279, time_fit:  0.65539, time_test:  0.13600\n",
      "Params: {'n_factors': 20, 'lr_all': 0.001, 'reg_all': 0.1}, RMSE:  0.96156, MAE:  0.76564, time_fit:  0.65980, time_test:  0.12840\n",
      "Params: {'n_factors': 20, 'lr_all': 0.005, 'reg_all': 0.01}, RMSE:  0.93904, MAE:  0.74087, time_fit:  0.71730, time_test:  0.14061\n",
      "Params: {'n_factors': 20, 'lr_all': 0.005, 'reg_all': 0.02}, RMSE:  0.93635, MAE:  0.73918, time_fit:  0.65000, time_test:  0.12059\n",
      "Params: {'n_factors': 20, 'lr_all': 0.005, 'reg_all': 0.1}, RMSE:  0.94089, MAE:  0.74607, time_fit:  0.64019, time_test:  0.10341\n",
      "Params: {'n_factors': 20, 'lr_all': 0.01, 'reg_all': 0.01}, RMSE:  0.95595, MAE:  0.74589, time_fit:  0.66640, time_test:  0.11399\n",
      "Params: {'n_factors': 20, 'lr_all': 0.01, 'reg_all': 0.02}, RMSE:  0.94630, MAE:  0.74109, time_fit:  0.66761, time_test:  0.11358\n",
      "Params: {'n_factors': 20, 'lr_all': 0.01, 'reg_all': 0.1}, RMSE:  0.92699, MAE:  0.73430, time_fit:  0.64010, time_test:  0.12601\n",
      "Params: {'n_factors': 50, 'lr_all': 0.001, 'reg_all': 0.01}, RMSE:  0.96116, MAE:  0.76280, time_fit:  0.81782, time_test:  0.11179\n",
      "Params: {'n_factors': 50, 'lr_all': 0.001, 'reg_all': 0.02}, RMSE:  0.96092, MAE:  0.76315, time_fit:  0.82200, time_test:  0.11279\n",
      "Params: {'n_factors': 50, 'lr_all': 0.001, 'reg_all': 0.1}, RMSE:  0.96217, MAE:  0.76606, time_fit:  0.83959, time_test:  0.11602\n",
      "Params: {'n_factors': 50, 'lr_all': 0.005, 'reg_all': 0.01}, RMSE:  0.93673, MAE:  0.73791, time_fit:  0.87679, time_test:  0.11601\n",
      "Params: {'n_factors': 50, 'lr_all': 0.005, 'reg_all': 0.02}, RMSE:  0.93592, MAE:  0.73779, time_fit:  0.85220, time_test:  0.11720\n",
      "Params: {'n_factors': 50, 'lr_all': 0.005, 'reg_all': 0.1}, RMSE:  0.93990, MAE:  0.74517, time_fit:  0.84021, time_test:  0.10239\n",
      "Params: {'n_factors': 50, 'lr_all': 0.01, 'reg_all': 0.01}, RMSE:  0.97724, MAE:  0.76332, time_fit:  0.88551, time_test:  0.12741\n",
      "Params: {'n_factors': 50, 'lr_all': 0.01, 'reg_all': 0.02}, RMSE:  0.95012, MAE:  0.74422, time_fit:  0.84557, time_test:  0.11901\n",
      "Params: {'n_factors': 50, 'lr_all': 0.01, 'reg_all': 0.1}, RMSE:  0.92251, MAE:  0.73029, time_fit:  0.94199, time_test:  0.12930\n",
      "Params: {'n_factors': 100, 'lr_all': 0.001, 'reg_all': 0.01}, RMSE:  0.96382, MAE:  0.76530, time_fit:  1.12397, time_test:  0.12812\n",
      "Params: {'n_factors': 100, 'lr_all': 0.001, 'reg_all': 0.02}, RMSE:  0.96324, MAE:  0.76495, time_fit:  1.13464, time_test:  0.11569\n",
      "Params: {'n_factors': 100, 'lr_all': 0.001, 'reg_all': 0.1}, RMSE:  0.96317, MAE:  0.76704, time_fit:  1.17046, time_test:  0.12347\n",
      "Params: {'n_factors': 100, 'lr_all': 0.005, 'reg_all': 0.01}, RMSE:  0.94077, MAE:  0.74037, time_fit:  1.14850, time_test:  0.11359\n",
      "Params: {'n_factors': 100, 'lr_all': 0.005, 'reg_all': 0.02}, RMSE:  0.93522, MAE:  0.73760, time_fit:  1.16775, time_test:  0.12901\n",
      "Params: {'n_factors': 100, 'lr_all': 0.005, 'reg_all': 0.1}, RMSE:  0.93700, MAE:  0.74293, time_fit:  1.14085, time_test:  0.12160\n",
      "Params: {'n_factors': 100, 'lr_all': 0.01, 'reg_all': 0.01}, RMSE:  0.97738, MAE:  0.76473, time_fit:  1.10840, time_test:  0.14047\n",
      "Params: {'n_factors': 100, 'lr_all': 0.01, 'reg_all': 0.02}, RMSE:  0.95359, MAE:  0.74842, time_fit:  1.15260, time_test:  0.12294\n",
      "Params: {'n_factors': 100, 'lr_all': 0.01, 'reg_all': 0.1}, RMSE:  0.92016, MAE:  0.72803, time_fit:  1.07244, time_test:  0.11132\n",
      "\n"
     ]
    }
   ],
   "source": [
    "param_svd = {\n",
    "    'n_factors': [20, 50, 100],\n",
    "    'lr_all': [0.001, 0.005, 0.01],\n",
    "    'reg_all': [0.01, 0.02, 0.1]\n",
    "}\n",
    "\n",
    "param_nmf = {\n",
    "    'n_factors': [5, 10, 15, 30],\n",
    "    'reg_pu': [0.005, 0.01, 0.3, 0.6],\n",
    "    'reg_qi': [0.005, 0.01, 0.1, 0.2]\n",
    "}\n",
    "\n",
    "print('Start SVD test')\n",
    "svd_results = evaluate_model(SVD, param_svd, data)\n",
    "\n",
    "print(\"SVD Results:\")\n",
    "for result in svd_results:\n",
    "    params = result['parameters']\n",
    "    rmse = result['mean_rmse']\n",
    "    mae = result['mean_mae']\n",
    "    time_fit = result['mean_fit_time']\n",
    "    time_test = result['mean_test_time']\n",
    "    print(f\"Params: {params}, RMSE: {rmse: 0.5f}, MAE: {mae: 0.5f}, time_fit: {time_fit: 0.5f}, time_test: {time_test: 0.5f}\")\n",
    "print()"
   ]
  },
  {
   "cell_type": "code",
   "execution_count": 14,
   "metadata": {},
   "outputs": [
    {
     "name": "stdout",
     "output_type": "stream",
     "text": [
      "Start SVD++ test\n",
      "SVD++ Results:\n",
      "Params: {'n_factors': 20, 'lr_all': 0.001, 'reg_all': 0.01}, RMSE:  0.95131, MAE:  0.75392, time_fit:  25.38549, time_test:  3.61863\n",
      "Params: {'n_factors': 20, 'lr_all': 0.001, 'reg_all': 0.02}, RMSE:  0.95603, MAE:  0.75876, time_fit:  24.66155, time_test:  3.53042\n",
      "Params: {'n_factors': 20, 'lr_all': 0.001, 'reg_all': 0.1}, RMSE:  0.96096, MAE:  0.76523, time_fit:  24.30061, time_test:  3.46573\n",
      "Params: {'n_factors': 20, 'lr_all': 0.005, 'reg_all': 0.01}, RMSE:  0.91736, MAE:  0.72039, time_fit:  24.15920, time_test:  3.49019\n",
      "Params: {'n_factors': 20, 'lr_all': 0.005, 'reg_all': 0.02}, RMSE:  0.92012, MAE:  0.72418, time_fit:  24.05555, time_test:  3.49092\n",
      "Params: {'n_factors': 20, 'lr_all': 0.005, 'reg_all': 0.1}, RMSE:  0.93900, MAE:  0.74439, time_fit:  25.19084, time_test:  3.69020\n",
      "Params: {'n_factors': 20, 'lr_all': 0.01, 'reg_all': 0.01}, RMSE:  0.94627, MAE:  0.73717, time_fit:  25.31426, time_test:  3.72346\n",
      "Params: {'n_factors': 20, 'lr_all': 0.01, 'reg_all': 0.02}, RMSE:  0.93360, MAE:  0.72965, time_fit:  25.96001, time_test:  3.69150\n",
      "Params: {'n_factors': 20, 'lr_all': 0.01, 'reg_all': 0.1}, RMSE:  0.91988, MAE:  0.72773, time_fit:  26.12580, time_test:  3.75928\n",
      "Params: {'n_factors': 50, 'lr_all': 0.001, 'reg_all': 0.01}, RMSE:  0.94999, MAE:  0.75273, time_fit:  53.61438, time_test:  4.19804\n",
      "Params: {'n_factors': 50, 'lr_all': 0.001, 'reg_all': 0.02}, RMSE:  0.95423, MAE:  0.75709, time_fit:  53.68494, time_test:  3.70549\n",
      "Params: {'n_factors': 50, 'lr_all': 0.001, 'reg_all': 0.1}, RMSE:  0.96138, MAE:  0.76574, time_fit:  47.35628, time_test:  3.36284\n",
      "Params: {'n_factors': 50, 'lr_all': 0.005, 'reg_all': 0.01}, RMSE:  0.92223, MAE:  0.72365, time_fit:  44.79628, time_test:  3.01447\n",
      "Params: {'n_factors': 50, 'lr_all': 0.005, 'reg_all': 0.02}, RMSE:  0.92112, MAE:  0.72493, time_fit:  43.88239, time_test:  2.98817\n",
      "Params: {'n_factors': 50, 'lr_all': 0.005, 'reg_all': 0.1}, RMSE:  0.93408, MAE:  0.74061, time_fit:  46.41693, time_test:  3.38646\n",
      "Params: {'n_factors': 50, 'lr_all': 0.01, 'reg_all': 0.01}, RMSE:  0.96566, MAE:  0.75237, time_fit:  50.00625, time_test:  3.56620\n",
      "Params: {'n_factors': 50, 'lr_all': 0.01, 'reg_all': 0.02}, RMSE:  0.94418, MAE:  0.73869, time_fit:  48.21674, time_test:  3.78906\n",
      "Params: {'n_factors': 50, 'lr_all': 0.01, 'reg_all': 0.1}, RMSE:  0.91490, MAE:  0.72360, time_fit:  47.33073, time_test:  3.40644\n",
      "Params: {'n_factors': 100, 'lr_all': 0.001, 'reg_all': 0.01}, RMSE:  0.94952, MAE:  0.75219, time_fit:  88.60874, time_test:  3.48276\n",
      "Params: {'n_factors': 100, 'lr_all': 0.001, 'reg_all': 0.02}, RMSE:  0.95509, MAE:  0.75789, time_fit:  92.59561, time_test:  3.58001\n",
      "Params: {'n_factors': 100, 'lr_all': 0.001, 'reg_all': 0.1}, RMSE:  0.96197, MAE:  0.76614, time_fit:  105.73016, time_test:  3.83526\n",
      "Params: {'n_factors': 100, 'lr_all': 0.005, 'reg_all': 0.01}, RMSE:  0.92692, MAE:  0.72719, time_fit:  108.30056, time_test:  4.74543\n",
      "Params: {'n_factors': 100, 'lr_all': 0.005, 'reg_all': 0.02}, RMSE:  0.92401, MAE:  0.72653, time_fit:  109.32735, time_test:  4.38220\n",
      "Params: {'n_factors': 100, 'lr_all': 0.005, 'reg_all': 0.1}, RMSE:  0.93052, MAE:  0.73736, time_fit:  107.99218, time_test:  4.34077\n",
      "Params: {'n_factors': 100, 'lr_all': 0.01, 'reg_all': 0.01}, RMSE:  0.96802, MAE:  0.75659, time_fit:  94.28844, time_test:  3.59484\n",
      "Params: {'n_factors': 100, 'lr_all': 0.01, 'reg_all': 0.02}, RMSE:  0.94861, MAE:  0.74259, time_fit:  92.49442, time_test:  3.60154\n",
      "Params: {'n_factors': 100, 'lr_all': 0.01, 'reg_all': 0.1}, RMSE:  0.91288, MAE:  0.72209, time_fit:  87.75378, time_test:  3.42903\n",
      "\n"
     ]
    }
   ],
   "source": [
    "print('Start SVD++ test')\n",
    "svdpp_results = evaluate_model(SVDpp, param_svd, data)\n",
    "\n",
    "print(\"SVD++ Results:\")\n",
    "for result in svdpp_results:\n",
    "    params = result['parameters']\n",
    "    rmse = result['mean_rmse']\n",
    "    mae = result['mean_mae']\n",
    "    time_fit = result['mean_fit_time']\n",
    "    time_test = result['mean_test_time']\n",
    "    print(f\"Params: {params}, RMSE: {rmse: 0.5f}, MAE: {mae: 0.5f}, time_fit: {time_fit: 0.5f}, time_test: {time_test: 0.5f}\")\n",
    "print()"
   ]
  },
  {
   "cell_type": "code",
   "execution_count": 15,
   "metadata": {},
   "outputs": [
    {
     "name": "stdout",
     "output_type": "stream",
     "text": [
      "Start NMF test\n",
      "NMF Results:\n",
      "Params: {'n_factors': 5, 'reg_pu': 0.005, 'reg_qi': 0.005}, RMSE:  2.13401, MAE:  1.92234, time_fit:  1.47392, time_test:  0.09048\n",
      "Params: {'n_factors': 5, 'reg_pu': 0.005, 'reg_qi': 0.01}, RMSE:  2.04322, MAE:  1.83205, time_fit:  1.39229, time_test:  0.10010\n",
      "Params: {'n_factors': 5, 'reg_pu': 0.005, 'reg_qi': 0.1}, RMSE:  1.32550, MAE:  1.12586, time_fit:  1.40358, time_test:  0.09279\n",
      "Params: {'n_factors': 5, 'reg_pu': 0.005, 'reg_qi': 0.2}, RMSE:  1.12475, MAE:  0.93319, time_fit:  1.40313, time_test:  0.10312\n",
      "Params: {'n_factors': 5, 'reg_pu': 0.01, 'reg_qi': 0.005}, RMSE:  2.05651, MAE:  1.84565, time_fit:  1.39572, time_test:  0.09055\n",
      "Params: {'n_factors': 5, 'reg_pu': 0.01, 'reg_qi': 0.01}, RMSE:  1.94666, MAE:  1.73621, time_fit:  1.40347, time_test:  0.10218\n",
      "Params: {'n_factors': 5, 'reg_pu': 0.01, 'reg_qi': 0.1}, RMSE:  1.24929, MAE:  1.05337, time_fit:  1.40688, time_test:  0.09327\n",
      "Params: {'n_factors': 5, 'reg_pu': 0.01, 'reg_qi': 0.2}, RMSE:  1.06916, MAE:  0.87874, time_fit:  1.40755, time_test:  0.10252\n",
      "Params: {'n_factors': 5, 'reg_pu': 0.3, 'reg_qi': 0.005}, RMSE:  1.04154, MAE:  0.85121, time_fit:  1.40397, time_test:  0.09180\n",
      "Params: {'n_factors': 5, 'reg_pu': 0.3, 'reg_qi': 0.01}, RMSE:  1.01141, MAE:  0.82198, time_fit:  1.40283, time_test:  0.09994\n",
      "Params: {'n_factors': 5, 'reg_pu': 0.3, 'reg_qi': 0.1}, RMSE:  0.96285, MAE:  0.77308, time_fit:  1.39640, time_test:  0.09307\n",
      "Params: {'n_factors': 5, 'reg_pu': 0.3, 'reg_qi': 0.2}, RMSE:  0.97698, MAE:  0.78982, time_fit:  1.38979, time_test:  0.10306\n",
      "Params: {'n_factors': 5, 'reg_pu': 0.6, 'reg_qi': 0.005}, RMSE:  0.97917, MAE:  0.78512, time_fit:  1.39690, time_test:  0.08944\n",
      "Params: {'n_factors': 5, 'reg_pu': 0.6, 'reg_qi': 0.01}, RMSE:  0.96338, MAE:  0.77073, time_fit:  1.39646, time_test:  0.10328\n",
      "Params: {'n_factors': 5, 'reg_pu': 0.6, 'reg_qi': 0.1}, RMSE:  0.97505, MAE:  0.78807, time_fit:  1.39681, time_test:  0.09270\n",
      "Params: {'n_factors': 5, 'reg_pu': 0.6, 'reg_qi': 0.2}, RMSE:  1.00767, MAE:  0.82229, time_fit:  1.39356, time_test:  0.10334\n",
      "Params: {'n_factors': 10, 'reg_pu': 0.005, 'reg_qi': 0.005}, RMSE:  1.24264, MAE:  1.04051, time_fit:  1.59083, time_test:  0.08557\n",
      "Params: {'n_factors': 10, 'reg_pu': 0.005, 'reg_qi': 0.01}, RMSE:  1.20953, MAE:  1.00748, time_fit:  1.61685, time_test:  0.09950\n",
      "Params: {'n_factors': 10, 'reg_pu': 0.005, 'reg_qi': 0.1}, RMSE:  1.02506, MAE:  0.82638, time_fit:  1.58824, time_test:  0.09340\n",
      "Params: {'n_factors': 10, 'reg_pu': 0.005, 'reg_qi': 0.2}, RMSE:  0.98924, MAE:  0.78902, time_fit:  1.58312, time_test:  0.09647\n",
      "Params: {'n_factors': 10, 'reg_pu': 0.01, 'reg_qi': 0.005}, RMSE:  1.20389, MAE:  1.00385, time_fit:  1.59027, time_test:  0.09667\n",
      "Params: {'n_factors': 10, 'reg_pu': 0.01, 'reg_qi': 0.01}, RMSE:  1.17115, MAE:  0.97223, time_fit:  1.59167, time_test:  0.09988\n",
      "Params: {'n_factors': 10, 'reg_pu': 0.01, 'reg_qi': 0.1}, RMSE:  1.01041, MAE:  0.81392, time_fit:  1.59499, time_test:  0.09314\n",
      "Params: {'n_factors': 10, 'reg_pu': 0.01, 'reg_qi': 0.2}, RMSE:  0.98496, MAE:  0.78533, time_fit:  1.61221, time_test:  0.11267\n",
      "Params: {'n_factors': 10, 'reg_pu': 0.3, 'reg_qi': 0.005}, RMSE:  0.97901, MAE:  0.77826, time_fit:  1.58951, time_test:  0.09325\n",
      "Params: {'n_factors': 10, 'reg_pu': 0.3, 'reg_qi': 0.01}, RMSE:  0.97253, MAE:  0.77249, time_fit:  1.59834, time_test:  0.10002\n",
      "Params: {'n_factors': 10, 'reg_pu': 0.3, 'reg_qi': 0.1}, RMSE:  0.96216, MAE:  0.77199, time_fit:  1.58998, time_test:  0.09002\n",
      "Params: {'n_factors': 10, 'reg_pu': 0.3, 'reg_qi': 0.2}, RMSE:  0.97660, MAE:  0.78981, time_fit:  1.58626, time_test:  0.10404\n",
      "Params: {'n_factors': 10, 'reg_pu': 0.6, 'reg_qi': 0.005}, RMSE:  0.96166, MAE:  0.76205, time_fit:  1.59906, time_test:  0.09003\n",
      "Params: {'n_factors': 10, 'reg_pu': 0.6, 'reg_qi': 0.01}, RMSE:  0.95818, MAE:  0.76083, time_fit:  1.58667, time_test:  0.10243\n",
      "Params: {'n_factors': 10, 'reg_pu': 0.6, 'reg_qi': 0.1}, RMSE:  0.97541, MAE:  0.78886, time_fit:  1.57685, time_test:  0.08929\n",
      "Params: {'n_factors': 10, 'reg_pu': 0.6, 'reg_qi': 0.2}, RMSE:  1.00800, MAE:  0.82249, time_fit:  1.58956, time_test:  0.10348\n",
      "Params: {'n_factors': 15, 'reg_pu': 0.005, 'reg_qi': 0.005}, RMSE:  1.06566, MAE:  0.81492, time_fit:  1.78623, time_test:  0.09694\n",
      "Params: {'n_factors': 15, 'reg_pu': 0.005, 'reg_qi': 0.01}, RMSE:  1.05026, MAE:  0.80286, time_fit:  1.81381, time_test:  0.09579\n",
      "Params: {'n_factors': 15, 'reg_pu': 0.005, 'reg_qi': 0.1}, RMSE:  0.99081, MAE:  0.76868, time_fit:  1.78266, time_test:  0.08952\n",
      "Params: {'n_factors': 15, 'reg_pu': 0.005, 'reg_qi': 0.2}, RMSE:  0.97794, MAE:  0.76384, time_fit:  1.77279, time_test:  0.10332\n",
      "Params: {'n_factors': 15, 'reg_pu': 0.01, 'reg_qi': 0.005}, RMSE:  1.05107, MAE:  0.80595, time_fit:  1.77945, time_test:  0.09034\n",
      "Params: {'n_factors': 15, 'reg_pu': 0.01, 'reg_qi': 0.01}, RMSE:  1.04327, MAE:  0.79861, time_fit:  1.77689, time_test:  0.11201\n",
      "Params: {'n_factors': 15, 'reg_pu': 0.01, 'reg_qi': 0.1}, RMSE:  0.98769, MAE:  0.76842, time_fit:  1.80960, time_test:  0.09578\n",
      "Params: {'n_factors': 15, 'reg_pu': 0.01, 'reg_qi': 0.2}, RMSE:  0.97005, MAE:  0.75910, time_fit:  1.80293, time_test:  0.10062\n",
      "Params: {'n_factors': 15, 'reg_pu': 0.3, 'reg_qi': 0.005}, RMSE:  0.96894, MAE:  0.75945, time_fit:  1.79168, time_test:  0.09045\n",
      "Params: {'n_factors': 15, 'reg_pu': 0.3, 'reg_qi': 0.01}, RMSE:  0.96506, MAE:  0.75856, time_fit:  1.79551, time_test:  0.10084\n",
      "Params: {'n_factors': 15, 'reg_pu': 0.3, 'reg_qi': 0.1}, RMSE:  0.96017, MAE:  0.77047, time_fit:  1.79214, time_test:  0.09091\n",
      "Params: {'n_factors': 15, 'reg_pu': 0.3, 'reg_qi': 0.2}, RMSE:  0.97649, MAE:  0.78937, time_fit:  1.79762, time_test:  0.10523\n",
      "Params: {'n_factors': 15, 'reg_pu': 0.6, 'reg_qi': 0.005}, RMSE:  0.96145, MAE:  0.75788, time_fit:  1.79289, time_test:  0.09086\n",
      "Params: {'n_factors': 15, 'reg_pu': 0.6, 'reg_qi': 0.01}, RMSE:  0.95852, MAE:  0.75812, time_fit:  1.78547, time_test:  0.10746\n",
      "Params: {'n_factors': 15, 'reg_pu': 0.6, 'reg_qi': 0.1}, RMSE:  0.97678, MAE:  0.78963, time_fit:  1.81995, time_test:  0.09627\n",
      "Params: {'n_factors': 15, 'reg_pu': 0.6, 'reg_qi': 0.2}, RMSE:  1.00717, MAE:  0.82198, time_fit:  1.79522, time_test:  0.10453\n",
      "Params: {'n_factors': 30, 'reg_pu': 0.005, 'reg_qi': 0.005}, RMSE:  1.72687, MAE:  1.37316, time_fit:  2.32279, time_test:  0.08994\n",
      "Params: {'n_factors': 30, 'reg_pu': 0.005, 'reg_qi': 0.01}, RMSE:  1.69123, MAE:  1.34277, time_fit:  2.31598, time_test:  0.10076\n",
      "Params: {'n_factors': 30, 'reg_pu': 0.005, 'reg_qi': 0.1}, RMSE:  1.22979, MAE:  0.93788, time_fit:  2.31675, time_test:  0.09592\n",
      "Params: {'n_factors': 30, 'reg_pu': 0.005, 'reg_qi': 0.2}, RMSE:  1.06140, MAE:  0.80763, time_fit:  2.32946, time_test:  0.10662\n",
      "Params: {'n_factors': 30, 'reg_pu': 0.01, 'reg_qi': 0.005}, RMSE:  1.69559, MAE:  1.34669, time_fit:  2.31256, time_test:  0.09017\n",
      "Params: {'n_factors': 30, 'reg_pu': 0.01, 'reg_qi': 0.01}, RMSE:  1.64913, MAE:  1.30757, time_fit:  2.32210, time_test:  0.10383\n",
      "Params: {'n_factors': 30, 'reg_pu': 0.01, 'reg_qi': 0.1}, RMSE:  1.14642, MAE:  0.87128, time_fit:  2.31693, time_test:  0.09245\n",
      "Params: {'n_factors': 30, 'reg_pu': 0.01, 'reg_qi': 0.2}, RMSE:  1.01031, MAE:  0.77340, time_fit:  2.30970, time_test:  0.11524\n",
      "Params: {'n_factors': 30, 'reg_pu': 0.3, 'reg_qi': 0.005}, RMSE:  1.00028, MAE:  0.76704, time_fit:  2.31621, time_test:  0.09431\n",
      "Params: {'n_factors': 30, 'reg_pu': 0.3, 'reg_qi': 0.01}, RMSE:  0.97105, MAE:  0.75090, time_fit:  2.31280, time_test:  0.10407\n",
      "Params: {'n_factors': 30, 'reg_pu': 0.3, 'reg_qi': 0.1}, RMSE:  0.95803, MAE:  0.76867, time_fit:  2.30863, time_test:  0.09332\n",
      "Params: {'n_factors': 30, 'reg_pu': 0.3, 'reg_qi': 0.2}, RMSE:  0.97634, MAE:  0.78934, time_fit:  2.32476, time_test:  0.10330\n",
      "Params: {'n_factors': 30, 'reg_pu': 0.6, 'reg_qi': 0.005}, RMSE:  0.95547, MAE:  0.74467, time_fit:  2.31549, time_test:  0.08987\n",
      "Params: {'n_factors': 30, 'reg_pu': 0.6, 'reg_qi': 0.01}, RMSE:  0.94619, MAE:  0.74373, time_fit:  2.31621, time_test:  0.11329\n",
      "Params: {'n_factors': 30, 'reg_pu': 0.6, 'reg_qi': 0.1}, RMSE:  0.97618, MAE:  0.78921, time_fit:  2.30619, time_test:  0.09331\n",
      "Params: {'n_factors': 30, 'reg_pu': 0.6, 'reg_qi': 0.2}, RMSE:  1.00649, MAE:  0.82174, time_fit:  2.32009, time_test:  0.10610\n"
     ]
    }
   ],
   "source": [
    "print('Start NMF test')\n",
    "nmf_results = evaluate_model(NMF, param_nmf, data)\n",
    "\n",
    "print(\"NMF Results:\")\n",
    "for result in nmf_results:\n",
    "    params = result['parameters']\n",
    "    rmse = result['mean_rmse']\n",
    "    mae = result['mean_mae']\n",
    "    time_fit = result['mean_fit_time']\n",
    "    time_test = result['mean_test_time']\n",
    "    print(f\"Params: {params}, RMSE: {rmse: 0.5f}, MAE: {mae: 0.5f}, time_fit: {time_fit: 0.5f}, time_test: {time_test: 0.5f}\")"
   ]
  },
  {
   "cell_type": "code",
   "execution_count": 16,
   "metadata": {},
   "outputs": [],
   "source": [
    "import joblib"
   ]
  },
  {
   "cell_type": "code",
   "execution_count": 17,
   "metadata": {},
   "outputs": [
    {
     "data": {
      "text/plain": [
       "['Results\\\\nmf_results.pkl']"
      ]
     },
     "execution_count": 17,
     "metadata": {},
     "output_type": "execute_result"
    }
   ],
   "source": [
    "joblib.dump(svd_results, 'Results\\\\svd_results.pkl')\n",
    "joblib.dump(svdpp_results, 'Results\\\\svdpp_results.pkl')\n",
    "joblib.dump(nmf_results, 'Results\\\\nmf_results.pkl')"
   ]
  },
  {
   "cell_type": "code",
   "execution_count": 20,
   "metadata": {},
   "outputs": [],
   "source": [
    "results = np.hstack([svd_results, svdpp_results, nmf_results])"
   ]
  }
 ],
 "metadata": {
  "kernelspec": {
   "display_name": ".venv",
   "language": "python",
   "name": "python3"
  },
  "language_info": {
   "codemirror_mode": {
    "name": "ipython",
    "version": 3
   },
   "file_extension": ".py",
   "mimetype": "text/x-python",
   "name": "python",
   "nbconvert_exporter": "python",
   "pygments_lexer": "ipython3",
   "version": "3.12.1"
  }
 },
 "nbformat": 4,
 "nbformat_minor": 2
}
