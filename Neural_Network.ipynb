{
 "cells": [
  {
   "cell_type": "code",
   "execution_count": 1,
   "metadata": {},
   "outputs": [],
   "source": [
    "import tensorflow as tf\n",
    "import numpy as np\n",
    "import pandas as pd\n",
    "import matplotlib.pyplot as plt\n",
    "import random\n",
    "import keras as K\n",
    "import seaborn as sns\n",
    "from sklearn.metrics import confusion_matrix"
   ]
  },
  {
   "cell_type": "code",
   "execution_count": 2,
   "metadata": {},
   "outputs": [],
   "source": [
    "num_classes = 10 # загальна кількість класів, у нашому випадку це цифри від 0 до 9\n",
    "num_features = 784 # кількість атрибутів вхідного вектора 28 * 28 = 784\n",
    "\n",
    "learning_rate = 0.001 # швидкість навчання нейронної мережі\n",
    "training_steps = 3000 # максимальне число епох\n",
    "batch_size = 256 # перераховувати ваги мережі ми будемо не на всій вибірці, а на її випадковій підмножині з batch_size елементів\n",
    "display_step = 100 # кожні 100 ітерацій ми будемо показувати поточне значення функції втрат і точності\n",
    "\n",
    "n_hidden_1 = 128 # кількість нейронів 1-го шару\n",
    "n_hidden_2 = 256 # кількість нейронів 2-го шару"
   ]
  },
  {
   "cell_type": "code",
   "execution_count": 3,
   "metadata": {},
   "outputs": [],
   "source": [
    "# from tensorflow.keras.datasets import mnist\n",
    "from keras.datasets import mnist\n",
    "\n",
    "# Завантажуємо датасет\n",
    "(x_train, y_train), (x_test, y_test) = mnist.load_data()\n",
    "\n",
    "# Перетворюємо цілочисельні пікселі на тип float32\n",
    "x_train, x_test = np.array(x_train, np.float32), np.array(x_test, np.float32)\n",
    "\n",
    "# Перетворюємо матриці розміром 28x28 пікселів у вектор з 784 елементів\n",
    "x_train, x_test = x_train.reshape([-1, num_features]), x_test.reshape([-1, num_features])\n",
    "\n",
    "# Нормалізуємо значення пікселів\n",
    "x_train, x_test = x_train / 255., x_test / 255.\n",
    "\n",
    "# Перемішаємо тренувальні дані\n",
    "train_data = tf.data.Dataset.from_tensor_slices((x_train, y_train))\n",
    "train_data = train_data.repeat().shuffle(5000).batch(batch_size).prefetch(1)"
   ]
  },
  {
   "cell_type": "code",
   "execution_count": 6,
   "metadata": {},
   "outputs": [],
   "source": [
    "# Створимо нейронну мережу\n",
    "\n",
    "class DenseLayer(tf.Module):\n",
    "    def __init__(self, in_features, out_features, name=None):\n",
    "        super().__init__(name=name)\n",
    "        self.w = tf.Variable(\n",
    "            tf.random.normal([in_features, out_features]), name=\"w\"\n",
    "        )\n",
    "        self.b = tf.Variable(tf.zeros([out_features]), name=\"b\")\n",
    "\n",
    "    def __call__(self, x, activation=0):\n",
    "        y = tf.matmul(x, self.w) + self.b\n",
    "        if activation != 0:\n",
    "            return tf.nn.softmax(y)\n",
    "        else:\n",
    "            return tf.nn.sigmoid(y)\n",
    "\n",
    "class NN(tf.Module):\n",
    "  def __init__(self, name=None):\n",
    "    super().__init__(name=name)\n",
    "    # Перший шар, який складається з 128 нейронів\n",
    "    self.layer_1 = DenseLayer(in_features=num_features, out_features=n_hidden_1)\n",
    "    # Другий шар, який складається з 256 нейронів\n",
    "    self.layer_2 = DenseLayer(in_features=n_hidden_1, out_features=n_hidden_2)\n",
    "    # Вихідний шар\n",
    "    self.layer_3 = DenseLayer(in_features=n_hidden_2, out_features=num_classes)\n",
    "\n",
    "\n",
    "  def __call__(self, x):\n",
    "    # Передача даних через перші два шари та вихідний шар з функцією активації softmax\n",
    "    x = self.layer_1(x)\n",
    "    x = self.layer_2(x)\n",
    "    x = self.layer_3(x, activation=1)\n",
    "\n",
    "    return x"
   ]
  },
  {
   "cell_type": "code",
   "execution_count": 7,
   "metadata": {},
   "outputs": [],
   "source": [
    "# В якості функції помилки в даному випадку зручно взяти крос-ентропію\n",
    "def cross_entropy(y_pred, y_true):\n",
    "    # Закодувати label в one hot vector\n",
    "    y_true = tf.one_hot(y_true, depth=num_classes)\n",
    "\n",
    "    # Значення передбачення, щоб уникнути помилки log(0).\n",
    "    y_pred = tf.clip_by_value(y_pred, 1e-9, 1.)\n",
    "\n",
    "    # Обчислення крос-ентропії\n",
    "    return tf.reduce_mean(-tf.reduce_sum(y_true * tf.math.log(y_pred)))\n",
    "\n",
    "# Як метрику якості використовуємо точність\n",
    "def accuracy(y_pred, y_true):\n",
    "    y_pred_labels = tf.argmax(y_pred, axis=1, output_type=tf.int64)\n",
    "\n",
    "    y_true = tf.cast(y_true, tf.int64)\n",
    "\n",
    "    correct_predictions = tf.equal(y_pred_labels, y_true)\n",
    "\n",
    "    return tf.reduce_mean(tf.cast(correct_predictions, tf.float32))"
   ]
  },
  {
   "cell_type": "code",
   "execution_count": 8,
   "metadata": {},
   "outputs": [],
   "source": [
    "# Створимо екземпляр нейронної мережі\n",
    "neural_net = NN(name=\"mnist\")\n",
    "\n",
    "# Функція навчання нейромережі\n",
    "def train(neural_net, input_x, output_y, learning_rate):\n",
    "  # Для налаштування вагів мережі будемо використовувати стохастичний градієнтний спуск\n",
    "  optimizer = tf.optimizers.SGD(learning_rate)\n",
    "\n",
    "  # Активація автоматичного диференціювання\n",
    "  with tf.GradientTape() as g:\n",
    "    pred = neural_net(input_x)\n",
    "    loss = cross_entropy(pred, output_y)\n",
    "\n",
    "  # Отримаємо список оптимізованих параметрів\n",
    "  parameter = neural_net.trainable_variables\n",
    "  # Обчислимо за ними значення градієнта\n",
    "  gradients = g.gradient(loss, parameter)\n",
    "\n",
    "  # Модифікуємо параметри\n",
    "  optimizer.apply_gradients(zip(gradients, parameter))\n",
    "\n",
    "  return loss"
   ]
  },
  {
   "cell_type": "code",
   "execution_count": 9,
   "metadata": {},
   "outputs": [
    {
     "name": "stdout",
     "output_type": "stream",
     "text": [
      "Step 100, Loss: 331.0301513671875, Accuracy: 0.69140625\n",
      "Step 200, Loss: 210.1138458251953, Accuracy: 0.78125\n",
      "Step 300, Loss: 166.1688232421875, Accuracy: 0.80859375\n",
      "Step 400, Loss: 203.36239624023438, Accuracy: 0.8203125\n",
      "Step 500, Loss: 113.78910064697266, Accuracy: 0.85546875\n",
      "Step 600, Loss: 127.26104736328125, Accuracy: 0.82421875\n",
      "Step 700, Loss: 113.46231079101562, Accuracy: 0.87109375\n",
      "Step 800, Loss: 92.38932800292969, Accuracy: 0.8984375\n",
      "Step 900, Loss: 132.98509216308594, Accuracy: 0.8671875\n",
      "Step 1000, Loss: 91.81428527832031, Accuracy: 0.89453125\n",
      "Step 1100, Loss: 112.22018432617188, Accuracy: 0.8828125\n",
      "Step 1200, Loss: 78.77428436279297, Accuracy: 0.9453125\n",
      "Step 1300, Loss: 92.86320495605469, Accuracy: 0.89453125\n",
      "Step 1400, Loss: 88.24874877929688, Accuracy: 0.91015625\n",
      "Step 1500, Loss: 78.25350952148438, Accuracy: 0.89453125\n",
      "Step 1600, Loss: 96.78205108642578, Accuracy: 0.890625\n",
      "Step 1700, Loss: 115.73760986328125, Accuracy: 0.8828125\n",
      "Step 1800, Loss: 87.11070251464844, Accuracy: 0.90625\n",
      "Step 1900, Loss: 69.51167297363281, Accuracy: 0.9296875\n",
      "Step 2000, Loss: 50.34199523925781, Accuracy: 0.92578125\n",
      "Step 2100, Loss: 67.5589828491211, Accuracy: 0.91796875\n",
      "Step 2200, Loss: 69.82036590576172, Accuracy: 0.9296875\n",
      "Step 2300, Loss: 96.19072723388672, Accuracy: 0.90234375\n",
      "Step 2400, Loss: 65.21822357177734, Accuracy: 0.9296875\n",
      "Step 2500, Loss: 60.78856658935547, Accuracy: 0.9140625\n",
      "Step 2600, Loss: 61.78662109375, Accuracy: 0.92578125\n",
      "Step 2700, Loss: 59.974571228027344, Accuracy: 0.9375\n",
      "Step 2800, Loss: 48.74818420410156, Accuracy: 0.9453125\n",
      "Step 2900, Loss: 83.60383605957031, Accuracy: 0.9140625\n",
      "Step 3000, Loss: 84.62095642089844, Accuracy: 0.91796875\n"
     ]
    }
   ],
   "source": [
    "# Тренування мережі\n",
    "\n",
    "loss_history = []  # кожні display_step кроків зберігай в цьому списку поточну помилку нейромережі\n",
    "accuracy_history = [] # кожні display_step кроків зберігай в цьому списку поточну точність нейромережі\n",
    "\n",
    "# У цьому циклі ми будемо проводити навчання нейронної мережі\n",
    "# із тренувального датасета train_data вилучи випадкову підмножину, на якій\n",
    "# відбудеться тренування. Використовуй метод take, доступний для тренувального датасета.\n",
    "for step, (batch_x, batch_y) in enumerate(train_data.take(training_steps), 1):\n",
    "    # Оновлюємо ваги нейронної мережі\n",
    "    train(neural_net, batch_x, batch_y, learning_rate=learning_rate)\n",
    "    \n",
    "    if step % display_step == 0:\n",
    "        pred = neural_net(batch_x)\n",
    "\n",
    "        current_loss = cross_entropy(pred, batch_y)\n",
    "        current_accuracy = accuracy(pred, batch_y)\n",
    "        accuracy_history.append(current_accuracy)\n",
    "        loss_history.append(current_loss)\n",
    "        print(f\"Step {step}, Loss: {current_loss}, Accuracy: {current_accuracy}\")"
   ]
  },
  {
   "cell_type": "code",
   "execution_count": 10,
   "metadata": {},
   "outputs": [
    {
     "data": {
      "image/png": "[encoded data removed]",
      "text/plain": [
       "<Figure size 640x480 with 1 Axes>"
      ]
     },
     "metadata": {},
     "output_type": "display_data"
    },
    {
     "data": {
      "image/png": "[encoded data removed]",
      "text/plain": [
       "<Figure size 640x480 with 1 Axes>"
      ]
     },
     "metadata": {},
     "output_type": "display_data"
    }
   ],
   "source": [
    "# Виведіть графіки залежності зміни точності і втрат від кроку\n",
    "# Якщо все зроблено правильно, то точність повинна зростати, а втрати зменшуватись\n",
    "\n",
    "import matplotlib.pyplot as plt\n",
    "step_history = [step + 100 for step in range(training_steps) if step % display_step == 0 ]\n",
    "\n",
    "# Виведіть графік функції втрат\n",
    "plt.plot(step_history, loss_history)\n",
    "plt.title(\"Loss\")\n",
    "plt.grid()\n",
    "plt.show()\n",
    "\n",
    "# Виведіть графік точності\n",
    "plt.plot(step_history, accuracy_history)\n",
    "plt.title(\"Accuracy\")\n",
    "plt.grid()\n",
    "plt.show()"
   ]
  },
  {
   "cell_type": "code",
   "execution_count": 11,
   "metadata": {},
   "outputs": [
    {
     "name": "stdout",
     "output_type": "stream",
     "text": [
      "Train accuracy = 0.9233333468437195\n",
      "Test accuracy = 0.9057999849319458\n"
     ]
    }
   ],
   "source": [
    "# Обчисліть точність навченої нейромережі\n",
    "train_pred = neural_net(x_train)\n",
    "train_accuracy = accuracy(train_pred, y_train)\n",
    "print(f'Train accuracy = {train_accuracy.numpy()}')\n",
    "# Тестування моделі на тестових даних\n",
    "test_pred = neural_net(x_test)\n",
    "test_accuracy = accuracy(test_pred, y_test)\n",
    "print(f'Test accuracy = {test_accuracy.numpy()}')"
   ]
  },
  {
   "cell_type": "code",
   "execution_count": 25,
   "metadata": {},
   "outputs": [
    {
     "name": "stdout",
     "output_type": "stream",
     "text": [
      "Select 10 images, accuracy = 0.9\n",
      "selected imnage idx: [6860 5363 4390 7026 4237]\n",
      "test_values: [5 7 8 3 9]\n",
      "pred_values: [5 7 8 3 9]\n",
      "accuraccy : 1.0\n"
     ]
    }
   ],
   "source": [
    "# Протестуйте навчену нейромережу на 10 зображеннях. З тестової вибірки візьміть 5\n",
    "# випадкових зображень і передайте їх у нейронну мережу.\n",
    "# Виведіть зображення та випишіть  поруч відповідь нейромережі.\n",
    "# Зробіть висновок про те, чи помиляється твоя нейронна мережа, і якщо так, то як часто?\n",
    "\n",
    "testing_select = 10\n",
    "test_pred_10 = neural_net(x_test[:testing_select])\n",
    "test_acc_10 = accuracy(test_pred_10, y_test[:testing_select])\n",
    "print(f\"Select {testing_select} images, accuracy = {test_acc_10.numpy():.2}\")\n",
    "\n",
    "img_selected = 5\n",
    "random_img_idx = np.random.randint(0, x_test.shape[0], size=img_selected)\n",
    "pred = neural_net(x_test[random_img_idx])\n",
    "acc = accuracy(pred, y_test[random_img_idx]).numpy()\n",
    "\n",
    "print(f\"selected imnage idx: {random_img_idx}\")\n",
    "print(\"test_values:\", y_test[random_img_idx])\n",
    "pred = np.argmax(pred, axis=1)\n",
    "print(\"pred_values:\", pred)\n",
    "print(f\"accuraccy : {acc:.2}\")"
   ]
  },
  {
   "cell_type": "code",
   "execution_count": 26,
   "metadata": {},
   "outputs": [
    {
     "data": {
      "text/plain": [
       "array([[ 923,    0,   10,    1,    1,   17,   16,    4,    6,    2],\n",
       "       [   0, 1100,    7,    4,    0,    2,    6,    2,   14,    0],\n",
       "       [  11,    8,  925,   18,   11,    5,    6,   15,   29,    4],\n",
       "       [   4,    3,   30,  894,    3,   39,    3,    8,   20,    6],\n",
       "       [   1,    0,    9,    3,  867,    2,   23,    8,   11,   58],\n",
       "       [  13,    2,    4,   33,    7,  790,   12,    6,   16,    9],\n",
       "       [   6,    2,   10,    2,   12,   11,  908,    0,    7,    0],\n",
       "       [   1,    7,   27,    8,   12,    5,    0,  928,    5,   35],\n",
       "       [   5,    2,   18,   19,    6,   40,   13,   12,  843,   16],\n",
       "       [   5,    5,    7,    6,   43,   17,    3,   28,   15,  880]],\n",
       "      dtype=int64)"
      ]
     },
     "execution_count": 26,
     "metadata": {},
     "output_type": "execute_result"
    }
   ],
   "source": [
    "test_pred = neural_net(x_test)\n",
    "test_pred = np.argmax(test_pred, axis=1)\n",
    "confusion_matrix(y_test, test_pred)"
   ]
  },
  {
   "cell_type": "code",
   "execution_count": 27,
   "metadata": {},
   "outputs": [
    {
     "name": "stdout",
     "output_type": "stream",
     "text": [
      "              precision    recall  f1-score   support\n",
      "\n",
      "           0       0.95      0.94      0.95       980\n",
      "           1       0.97      0.97      0.97      1135\n",
      "           2       0.88      0.90      0.89      1032\n",
      "           3       0.90      0.89      0.89      1010\n",
      "           4       0.90      0.88      0.89       982\n",
      "           5       0.85      0.89      0.87       892\n",
      "           6       0.92      0.95      0.93       958\n",
      "           7       0.92      0.90      0.91      1028\n",
      "           8       0.87      0.87      0.87       974\n",
      "           9       0.87      0.87      0.87      1009\n",
      "\n",
      "    accuracy                           0.91     10000\n",
      "   macro avg       0.90      0.90      0.90     10000\n",
      "weighted avg       0.91      0.91      0.91     10000\n",
      "\n"
     ]
    }
   ],
   "source": [
    "from sklearn.metrics import classification_report\n",
    "report = classification_report(y_test, test_pred, target_names=[str(i) for i in range(num_classes)])\n",
    "print(report)"
   ]
  }
 ],
 "metadata": {
  "kernelspec": {
   "display_name": ".venv",
   "language": "python",
   "name": "python3"
  },
  "language_info": {
   "codemirror_mode": {
    "name": "ipython",
    "version": 3
   },
   "file_extension": ".py",
   "mimetype": "text/x-python",
   "name": "python",
   "nbconvert_exporter": "python",
   "pygments_lexer": "ipython3",
   "version": "3.12.1"
  }
 },
 "nbformat": 4,
 "nbformat_minor": 2
}
